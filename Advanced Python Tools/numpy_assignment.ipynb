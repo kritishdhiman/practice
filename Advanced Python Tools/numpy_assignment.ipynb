{
 "cells": [
  {
   "cell_type": "code",
   "execution_count": null,
   "id": "9b260b77",
   "metadata": {},
   "outputs": [],
   "source": [
    "pip install numpy"
   ]
  },
  {
   "cell_type": "code",
   "execution_count": 7,
   "id": "854de980",
   "metadata": {},
   "outputs": [
    {
     "name": "stdout",
     "output_type": "stream",
     "text": [
      "[ 1  2  3  4  5  6  7  8  9 10 11 12 13 14 15 16 17 18 19 20]\n"
     ]
    }
   ],
   "source": [
    "import numpy as np\n",
    "\n",
    "Array = np.arange(1,21)\n",
    "print (Array)"
   ]
  },
  {
   "cell_type": "code",
   "execution_count": 8,
   "id": "dd80f580",
   "metadata": {},
   "outputs": [
    {
     "data": {
      "text/plain": [
       "np.int64(210)"
      ]
     },
     "execution_count": 8,
     "metadata": {},
     "output_type": "execute_result"
    }
   ],
   "source": [
    "np.sum(Array)"
   ]
  },
  {
   "cell_type": "code",
   "execution_count": 9,
   "id": "f79b2811",
   "metadata": {},
   "outputs": [
    {
     "data": {
      "text/plain": [
       "np.float64(10.5)"
      ]
     },
     "execution_count": 9,
     "metadata": {},
     "output_type": "execute_result"
    }
   ],
   "source": [
    "np.mean(Array)"
   ]
  },
  {
   "cell_type": "code",
   "execution_count": 10,
   "id": "fd2eaa10",
   "metadata": {},
   "outputs": [
    {
     "data": {
      "text/plain": [
       "np.float64(10.5)"
      ]
     },
     "execution_count": 10,
     "metadata": {},
     "output_type": "execute_result"
    }
   ],
   "source": [
    "np.median(Array)"
   ]
  },
  {
   "cell_type": "code",
   "execution_count": 11,
   "id": "508cb540",
   "metadata": {},
   "outputs": [
    {
     "data": {
      "text/plain": [
       "np.float64(5.766281297335398)"
      ]
     },
     "execution_count": 11,
     "metadata": {},
     "output_type": "execute_result"
    }
   ],
   "source": [
    "np.std(Array)"
   ]
  },
  {
   "cell_type": "code",
   "execution_count": 12,
   "id": "c55e20e8",
   "metadata": {},
   "outputs": [
    {
     "data": {
      "text/plain": [
       "(array([10, 11, 12, 13, 14, 15, 16, 17, 18, 19]),)"
      ]
     },
     "execution_count": 12,
     "metadata": {},
     "output_type": "execute_result"
    }
   ],
   "source": [
    "np.where(Array> 10)"
   ]
  },
  {
   "cell_type": "code",
   "execution_count": 13,
   "id": "612a9641",
   "metadata": {},
   "outputs": [
    {
     "data": {
      "text/plain": [
       "array([[ 1,  2,  3,  4],\n",
       "       [ 5,  6,  7,  8],\n",
       "       [ 9, 10, 11, 12],\n",
       "       [13, 14, 15, 16]])"
      ]
     },
     "execution_count": 13,
     "metadata": {},
     "output_type": "execute_result"
    }
   ],
   "source": [
    "array = np.arange(1,17).reshape(4,4)\n",
    "array"
   ]
  },
  {
   "cell_type": "code",
   "execution_count": 14,
   "id": "4bf9ee6a",
   "metadata": {},
   "outputs": [
    {
     "data": {
      "text/plain": [
       "array([[ 1,  5,  9, 13],\n",
       "       [ 2,  6, 10, 14],\n",
       "       [ 3,  7, 11, 15],\n",
       "       [ 4,  8, 12, 16]])"
      ]
     },
     "execution_count": 14,
     "metadata": {},
     "output_type": "execute_result"
    }
   ],
   "source": [
    "np.transpose(array)"
   ]
  },
  {
   "cell_type": "code",
   "execution_count": 17,
   "id": "e9aad299",
   "metadata": {},
   "outputs": [
    {
     "name": "stdout",
     "output_type": "stream",
     "text": [
      "[10 26 42 58]\n",
      "[28 32 36 40]\n"
     ]
    }
   ],
   "source": [
    "row_sum = array.sum(axis=1)\n",
    "col_sum = array.sum(axis=0)\n",
    "\n",
    "print(row_sum)\n",
    "print(col_sum)"
   ]
  },
  {
   "cell_type": "code",
   "execution_count": 23,
   "id": "fe0d0868",
   "metadata": {},
   "outputs": [
    {
     "name": "stdout",
     "output_type": "stream",
     "text": [
      "[[15  4 15]\n",
      " [ 1  6  2]\n",
      " [20  7  6]]\n",
      "[[ 2 15 14]\n",
      " [ 6 10 13]\n",
      " [19 18  2]]\n"
     ]
    }
   ],
   "source": [
    "array3 = np.random.randint(1,21, size=(3,3))\n",
    "array4 = np.random.randint(1,21, size=(3,3))\n",
    "print(array3)\n",
    "print(array4)"
   ]
  },
  {
   "cell_type": "code",
   "execution_count": 28,
   "id": "6de06079",
   "metadata": {},
   "outputs": [
    {
     "name": "stdout",
     "output_type": "stream",
     "text": [
      "[[17 19 29]\n",
      " [ 7 16 15]\n",
      " [39 25  8]]\n",
      "[[ 13 -11   1]\n",
      " [ -5  -4 -11]\n",
      " [  1 -11   4]]\n",
      "[[ 30  60 210]\n",
      " [  6  60  26]\n",
      " [380 126  12]]\n"
     ]
    }
   ],
   "source": [
    "print(array3+array4)\n",
    "print(array3-array4)\n",
    "print(array3*array4)"
   ]
  },
  {
   "cell_type": "code",
   "execution_count": 30,
   "id": "eeb42b00",
   "metadata": {},
   "outputs": [
    {
     "name": "stdout",
     "output_type": "stream",
     "text": [
      "[[339 535 292]\n",
      " [ 76 111  96]\n",
      " [196 478 383]]\n"
     ]
    }
   ],
   "source": [
    "print(array3 @ array4)"
   ]
  },
  {
   "cell_type": "code",
   "execution_count": 39,
   "id": "d32ee653",
   "metadata": {},
   "outputs": [
    {
     "data": {
      "text/plain": [
       "array([[3, 4],\n",
       "       [7, 8]])"
      ]
     },
     "execution_count": 39,
     "metadata": {},
     "output_type": "execute_result"
    }
   ],
   "source": [
    "array5 = np.arange(1,13)\n",
    "array6 = array5.reshape(3,4)\n",
    "array6\n",
    "\n",
    "array7 = array6[:2,2:]\n",
    "array7"
   ]
  }
 ],
 "metadata": {
  "kernelspec": {
   "display_name": "Python (medibot)",
   "language": "python",
   "name": "medibot"
  },
  "language_info": {
   "codemirror_mode": {
    "name": "ipython",
    "version": 3
   },
   "file_extension": ".py",
   "mimetype": "text/x-python",
   "name": "python",
   "nbconvert_exporter": "python",
   "pygments_lexer": "ipython3",
   "version": "3.10.18"
  }
 },
 "nbformat": 4,
 "nbformat_minor": 5
}
